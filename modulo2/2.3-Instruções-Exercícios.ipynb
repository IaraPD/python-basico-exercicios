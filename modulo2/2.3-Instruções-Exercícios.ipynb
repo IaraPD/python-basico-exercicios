{
 "cells": [
  {
   "cell_type": "markdown",
   "metadata": {
    "id": "1pCTdOHonv5f"
   },
   "source": [
    "# Módulo 2\n",
    "\n",
    "## 2.3 Instruções e Expressões\n",
    "\n",
    "### Q1\n",
    "\n",
    "Faça um programa que armazene o valor de 20 reais de salário por hora de um trabalhador, e o número de 40 horas trabalhadas na semana. Com essas informações, calcule e imprima:\n",
    "- Salário semanal bruto\n",
    "- Valor descontado por semana INSS (10% do bruto)\n",
    "- Valor descontado por semana pelo sindicato (5% do bruto)\n",
    "- Salário semanal líquido (Bruto - Descontos)"
   ]
  },
  {
   "cell_type": "code",
   "execution_count": null,
   "metadata": {
    "id": "hVbX0I97nj6M"
   },
   "outputs": [],
   "source": [
    "#definindo as variaveis\n",
    "valor_salario_hora = 20\n",
    "horas_trabalhadas_semana = 40\n",
    "#calculando o salario bruto semanal\n",
    "salario_bruto_semanal = valor_salario_hora * horas_trabalhadas_semana\n",
    "#Calculando o desconto do INSS\n",
    "desconto_inss = salario_bruto_semanal * 0.10\n",
    "#calculando  o descontodo sindicato\n",
    "desconto_sindicato = salario_bruto_semanal * 0.05\n",
    "#calculando o salario liquido\n",
    "salario_liquido = salario_bruto_semanal - desconto_inss - desconto_sindicato\n",
    "#RESULTADO\n",
    "print (\"salário semanal bruto:\", salario_bruto_semanal)\n",
    "print (\"valor descontado por semana (INSS:)\", desconto_inss)\n",
    "print (\"valor descontado por semana (sindicato):\", desconto_sindicato)\n",
    "print (\"salario semanal liquido:\", salario_liquido)"
   ]
  },
  {
   "cell_type": "markdown",
   "metadata": {
    "id": "pIxKX9J2oGZ1"
   },
   "source": [
    "### Q2\n",
    "\n",
    "Altere o programa anterior para a partir dos valores de horas trabalhadas por semana e salário por hora, calcular **em somente duas instruções**:\n",
    "- Salário semanal bruto\n",
    "- Salário semanal líquido com todos os descontos. Para a segunda instrução, realize todos os cálculos aritméticos em uma expressão composta.\n"
   ]
  },
  {
   "cell_type": "code",
   "execution_count": null,
   "metadata": {
    "id": "pAHw9Xf9oGoi"
   },
   "outputs": [],
   "source": [
    "\n",
    "horas_trabalhadas_semana = 40\n",
    "salario_bruto_semanal = valor_salario_hora *horas_trabalhadas_semana\n",
    "salario_liquido = salario_bruto_semanal * (1 - 0.10 - 0.05)\n",
    "print(\"salario semanal bruto:\",salario_bruto_semanal)\n",
    "print (\"salario semanal liquido:\", salario_liquido)ui"
   ]
  },
  {
   "cell_type": "markdown",
   "metadata": {
    "id": "m8tlHRuWpBOB"
   },
   "source": [
    "### Q3\n",
    "\n",
    "Você está desenvolvendo um software de conversão de moeda e precisa calcular o valor equivalente em yuan chinês a partir de uma quantia em real. A taxa de câmbio é de 0.69 BRL (real) para 1 CNY (yuan). Escreva um programa que define em uma variável uma quantia em reais (BRL) e calcula o valor equivalente em yuan (CNY). Imprima o resultado."
   ]
  },
  {
   "cell_type": "code",
   "execution_count": null,
   "metadata": {
    "id": "2bPw7uF6oeL9"
   },
   "outputs": [],
   "source": [
    "quantia_em_real = 100\n",
    "valor_equivalente_em_yuan = quantia_em_real * 0.69\n",
    "print (\"ovalor equivalente em yuan chinês é:\", valor_equivalente_em_yuan)"
   ]
  },
  {
   "cell_type": "markdown",
   "metadata": {
    "id": "-Na3ltDCp74A"
   },
   "source": [
    "### Q4\n",
    "\n",
    "Você é um treinador de corrida e deseja calcular a velocidade média que um atleta precisa manter para completar a Maratona Internacional de São Silvestre, que tem uma distância total de 42.195 km. A fórmula para calcular a velocidade média ($v\\_media$) é dada por $v\\_media = \\frac{distancia}{tempo}$ . Escreva um programa em Python para calcular a velocidade média necessária para completar a maratona em 3 horas.\n",
    "\n",
    "**Calcule e imprima o resultado em metros/segundo**, ou seja, converta a distância de quilômetros para metros ($metro = \\frac{km}{1000}$) e a velocidade de horas para segundos $(segundo = \\frac{hora}{3600})$."
   ]
  },
  {
   "cell_type": "code",
   "execution_count": null,
   "metadata": {
    "id": "Bn6l8kcSrE4L"
   },
   "outputs": [],
   "source": [
    "distancia_marathon = 42195\n",
    "tempo_segundos = 2 * 3600 + 3 *60 + 2\n",
    "velocidade_media = distancia_marathon / tempo_segundos\n",
    "velocidade_media_kmh = velocidade_media * 3.6\n",
    "print (f\"velocidade media do atleta é {velocidade_media: .2F} M/S OU {velocidade_media_kmh: .2F} KM/H\")"
   ]
  }
 ],
 "metadata": {
  "colab": {
   "provenance": []
  },
  "kernelspec": {
   "display_name": "Python 3 (ipykernel)",
   "language": "python",
   "name": "python3"
  },
  "language_info": {
   "codemirror_mode": {
    "name": "ipython",
    "version": 3
   },
   "file_extension": ".py",
   "mimetype": "text/x-python",
   "name": "python",
   "nbconvert_exporter": "python",
   "pygments_lexer": "ipython3",
   "version": "3.11.7"
  }
 },
 "nbformat": 4,
 "nbformat_minor": 4
}
